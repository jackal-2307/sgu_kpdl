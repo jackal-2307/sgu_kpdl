{
 "cells": [
  {
   "cell_type": "code",
   "execution_count": 1,
   "id": "92dd9659-c081-4b7d-bcb9-351f0923371a",
   "metadata": {},
   "outputs": [
    {
     "name": "stdout",
     "output_type": "stream",
     "text": [
      "Calculator Basic\n"
     ]
    },
    {
     "name": "stdin",
     "output_type": "stream",
     "text": [
      "Moi ban nhap so a:  3\n",
      "Moi ban nhap so b:  5\n"
     ]
    },
    {
     "name": "stdout",
     "output_type": "stream",
     "text": [
      "c = 3 + 5 = 8\n"
     ]
    }
   ],
   "source": [
    "%run lesson1/ex1_calc.py\n"
   ]
  },
  {
   "cell_type": "code",
   "execution_count": 15,
   "id": "1b5ef5cd-5b98-4f73-8de3-9d1dbad6f3eb",
   "metadata": {},
   "outputs": [
    {
     "name": "stdin",
     "output_type": "stream",
     "text": [
      "Nhập bán kính r của hình tròn:  3\n"
     ]
    },
    {
     "name": "stdout",
     "output_type": "stream",
     "text": [
      "Diện tích hình tròn với bán kính 3.0: 28.27\n",
      "Chu vi hình tròn với bán kính 3.0: 18.85\n"
     ]
    }
   ],
   "source": [
    "%run lesson1/ex3_circle.py"
   ]
  },
  {
   "cell_type": "code",
   "execution_count": null,
   "id": "f1416d37-ffbe-4b21-998e-81c4d60cf5e3",
   "metadata": {},
   "outputs": [],
   "source": []
  }
 ],
 "metadata": {
  "kernelspec": {
   "display_name": "Python 3 (ipykernel)",
   "language": "python",
   "name": "python3"
  },
  "language_info": {
   "codemirror_mode": {
    "name": "ipython",
    "version": 3
   },
   "file_extension": ".py",
   "mimetype": "text/x-python",
   "name": "python",
   "nbconvert_exporter": "python",
   "pygments_lexer": "ipython3",
   "version": "3.13.5"
  }
 },
 "nbformat": 4,
 "nbformat_minor": 5
}
